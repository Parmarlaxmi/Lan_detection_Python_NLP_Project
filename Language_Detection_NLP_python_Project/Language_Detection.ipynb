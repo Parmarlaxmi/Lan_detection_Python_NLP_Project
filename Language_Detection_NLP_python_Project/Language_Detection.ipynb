{
 "cells": [
  {
   "cell_type": "markdown",
   "id": "9b6eebb7",
   "metadata": {},
   "source": [
    " # Task #1: Perform imports and load the dataset into a pandas DataFrame"
   ]
  },
  {
   "cell_type": "code",
   "execution_count": 1,
   "id": "e2da3f48",
   "metadata": {},
   "outputs": [],
   "source": [
    "import pandas as pd"
   ]
  },
  {
   "cell_type": "code",
   "execution_count": 6,
   "id": "70de5f13",
   "metadata": {},
   "outputs": [],
   "source": [
    "df = pd.read_csv(\"F:\\dataset\\Language Detection.csv\")"
   ]
  },
  {
   "cell_type": "code",
   "execution_count": 8,
   "id": "7feb8ee6",
   "metadata": {},
   "outputs": [
    {
     "data": {
      "text/html": [
       "<div>\n",
       "<style scoped>\n",
       "    .dataframe tbody tr th:only-of-type {\n",
       "        vertical-align: middle;\n",
       "    }\n",
       "\n",
       "    .dataframe tbody tr th {\n",
       "        vertical-align: top;\n",
       "    }\n",
       "\n",
       "    .dataframe thead th {\n",
       "        text-align: right;\n",
       "    }\n",
       "</style>\n",
       "<table border=\"1\" class=\"dataframe\">\n",
       "  <thead>\n",
       "    <tr style=\"text-align: right;\">\n",
       "      <th></th>\n",
       "      <th>Text</th>\n",
       "      <th>Language</th>\n",
       "    </tr>\n",
       "  </thead>\n",
       "  <tbody>\n",
       "    <tr>\n",
       "      <th>0</th>\n",
       "      <td>Nature, in the broadest sense, is the natural...</td>\n",
       "      <td>English</td>\n",
       "    </tr>\n",
       "    <tr>\n",
       "      <th>1</th>\n",
       "      <td>\"Nature\" can refer to the phenomena of the phy...</td>\n",
       "      <td>English</td>\n",
       "    </tr>\n",
       "    <tr>\n",
       "      <th>2</th>\n",
       "      <td>The study of nature is a large, if not the onl...</td>\n",
       "      <td>English</td>\n",
       "    </tr>\n",
       "    <tr>\n",
       "      <th>3</th>\n",
       "      <td>Although humans are part of nature, human acti...</td>\n",
       "      <td>English</td>\n",
       "    </tr>\n",
       "    <tr>\n",
       "      <th>4</th>\n",
       "      <td>[1] The word nature is borrowed from the Old F...</td>\n",
       "      <td>English</td>\n",
       "    </tr>\n",
       "  </tbody>\n",
       "</table>\n",
       "</div>"
      ],
      "text/plain": [
       "                                                Text Language\n",
       "0   Nature, in the broadest sense, is the natural...  English\n",
       "1  \"Nature\" can refer to the phenomena of the phy...  English\n",
       "2  The study of nature is a large, if not the onl...  English\n",
       "3  Although humans are part of nature, human acti...  English\n",
       "4  [1] The word nature is borrowed from the Old F...  English"
      ]
     },
     "execution_count": 8,
     "metadata": {},
     "output_type": "execute_result"
    }
   ],
   "source": [
    "df.head()"
   ]
  },
  {
   "cell_type": "markdown",
   "id": "e1f19019",
   "metadata": {},
   "source": [
    "# Task #2: Check for missing values:"
   ]
  },
  {
   "cell_type": "code",
   "execution_count": 9,
   "id": "1701ebf8",
   "metadata": {},
   "outputs": [
    {
     "data": {
      "text/plain": [
       "Text        0\n",
       "Language    0\n",
       "dtype: int64"
      ]
     },
     "execution_count": 9,
     "metadata": {},
     "output_type": "execute_result"
    }
   ],
   "source": [
    "df.isnull().sum()"
   ]
  },
  {
   "cell_type": "markdown",
   "id": "7899da64",
   "metadata": {},
   "source": [
    "# Task #3: Check for different target labels:"
   ]
  },
  {
   "cell_type": "code",
   "execution_count": 10,
   "id": "47415f8b",
   "metadata": {},
   "outputs": [
    {
     "data": {
      "text/plain": [
       "English       1385\n",
       "French        1014\n",
       "Spanish        819\n",
       "Portugeese     739\n",
       "Italian        698\n",
       "Russian        692\n",
       "Sweedish       676\n",
       "Malayalam      594\n",
       "Dutch          546\n",
       "Arabic         536\n",
       "Turkish        474\n",
       "German         470\n",
       "Tamil          469\n",
       "Danish         428\n",
       "Kannada        369\n",
       "Greek          365\n",
       "Hindi           63\n",
       "Name: Language, dtype: int64"
      ]
     },
     "execution_count": 10,
     "metadata": {},
     "output_type": "execute_result"
    }
   ],
   "source": [
    "df['Language'].value_counts()"
   ]
  },
  {
   "cell_type": "markdown",
   "id": "1f97e570",
   "metadata": {},
   "source": [
    "# Task #4: Split the data into train & test sets:"
   ]
  },
  {
   "cell_type": "code",
   "execution_count": 19,
   "id": "ff277870",
   "metadata": {},
   "outputs": [],
   "source": [
    "X = df['Text']\n",
    "y = df['Language']"
   ]
  },
  {
   "cell_type": "code",
   "execution_count": 20,
   "id": "e1ec5d6c",
   "metadata": {},
   "outputs": [],
   "source": [
    "import re\n",
    "data_list = []\n",
    "for text in X:\n",
    "    text = re.sub(r'[!@#$(),n\"%^*?:;~`0-9]', ' ', text)\n",
    "    text = re.sub(r'[[]]', ' ', text)\n",
    "    text = text.lower()\n",
    "    data_list.append(text)\n"
   ]
  },
  {
   "cell_type": "code",
   "execution_count": 21,
   "id": "69eb762e",
   "metadata": {},
   "outputs": [],
   "source": [
    "X = data_list"
   ]
  },
  {
   "cell_type": "code",
   "execution_count": 22,
   "id": "46795fbb",
   "metadata": {},
   "outputs": [],
   "source": [
    "from sklearn.model_selection import train_test_split\n",
    "\n",
    "X_train, X_test, y_train, y_test = train_test_split(X, y, test_size=0.33, random_state=42)"
   ]
  },
  {
   "cell_type": "code",
   "execution_count": 23,
   "id": "56c9ea16",
   "metadata": {},
   "outputs": [
    {
     "data": {
      "text/plain": [
       "6925"
      ]
     },
     "execution_count": 23,
     "metadata": {},
     "output_type": "execute_result"
    }
   ],
   "source": [
    "len(X_train)"
   ]
  },
  {
   "cell_type": "code",
   "execution_count": 24,
   "id": "a3a2ee92",
   "metadata": {},
   "outputs": [
    {
     "data": {
      "text/plain": [
       "3412"
      ]
     },
     "execution_count": 24,
     "metadata": {},
     "output_type": "execute_result"
    }
   ],
   "source": [
    "len(X_test)"
   ]
  },
  {
   "cell_type": "markdown",
   "id": "e8df935a",
   "metadata": {},
   "source": [
    "# Task #5: Build a pipeline to vectorize the date, then train and fit a model"
   ]
  },
  {
   "cell_type": "code",
   "execution_count": 29,
   "id": "dddd73cb",
   "metadata": {},
   "outputs": [
    {
     "data": {
      "text/html": [
       "<style>#sk-container-id-3 {color: black;background-color: white;}#sk-container-id-3 pre{padding: 0;}#sk-container-id-3 div.sk-toggleable {background-color: white;}#sk-container-id-3 label.sk-toggleable__label {cursor: pointer;display: block;width: 100%;margin-bottom: 0;padding: 0.3em;box-sizing: border-box;text-align: center;}#sk-container-id-3 label.sk-toggleable__label-arrow:before {content: \"▸\";float: left;margin-right: 0.25em;color: #696969;}#sk-container-id-3 label.sk-toggleable__label-arrow:hover:before {color: black;}#sk-container-id-3 div.sk-estimator:hover label.sk-toggleable__label-arrow:before {color: black;}#sk-container-id-3 div.sk-toggleable__content {max-height: 0;max-width: 0;overflow: hidden;text-align: left;background-color: #f0f8ff;}#sk-container-id-3 div.sk-toggleable__content pre {margin: 0.2em;color: black;border-radius: 0.25em;background-color: #f0f8ff;}#sk-container-id-3 input.sk-toggleable__control:checked~div.sk-toggleable__content {max-height: 200px;max-width: 100%;overflow: auto;}#sk-container-id-3 input.sk-toggleable__control:checked~label.sk-toggleable__label-arrow:before {content: \"▾\";}#sk-container-id-3 div.sk-estimator input.sk-toggleable__control:checked~label.sk-toggleable__label {background-color: #d4ebff;}#sk-container-id-3 div.sk-label input.sk-toggleable__control:checked~label.sk-toggleable__label {background-color: #d4ebff;}#sk-container-id-3 input.sk-hidden--visually {border: 0;clip: rect(1px 1px 1px 1px);clip: rect(1px, 1px, 1px, 1px);height: 1px;margin: -1px;overflow: hidden;padding: 0;position: absolute;width: 1px;}#sk-container-id-3 div.sk-estimator {font-family: monospace;background-color: #f0f8ff;border: 1px dotted black;border-radius: 0.25em;box-sizing: border-box;margin-bottom: 0.5em;}#sk-container-id-3 div.sk-estimator:hover {background-color: #d4ebff;}#sk-container-id-3 div.sk-parallel-item::after {content: \"\";width: 100%;border-bottom: 1px solid gray;flex-grow: 1;}#sk-container-id-3 div.sk-label:hover label.sk-toggleable__label {background-color: #d4ebff;}#sk-container-id-3 div.sk-serial::before {content: \"\";position: absolute;border-left: 1px solid gray;box-sizing: border-box;top: 0;bottom: 0;left: 50%;z-index: 0;}#sk-container-id-3 div.sk-serial {display: flex;flex-direction: column;align-items: center;background-color: white;padding-right: 0.2em;padding-left: 0.2em;position: relative;}#sk-container-id-3 div.sk-item {position: relative;z-index: 1;}#sk-container-id-3 div.sk-parallel {display: flex;align-items: stretch;justify-content: center;background-color: white;position: relative;}#sk-container-id-3 div.sk-item::before, #sk-container-id-3 div.sk-parallel-item::before {content: \"\";position: absolute;border-left: 1px solid gray;box-sizing: border-box;top: 0;bottom: 0;left: 50%;z-index: -1;}#sk-container-id-3 div.sk-parallel-item {display: flex;flex-direction: column;z-index: 1;position: relative;background-color: white;}#sk-container-id-3 div.sk-parallel-item:first-child::after {align-self: flex-end;width: 50%;}#sk-container-id-3 div.sk-parallel-item:last-child::after {align-self: flex-start;width: 50%;}#sk-container-id-3 div.sk-parallel-item:only-child::after {width: 0;}#sk-container-id-3 div.sk-dashed-wrapped {border: 1px dashed gray;margin: 0 0.4em 0.5em 0.4em;box-sizing: border-box;padding-bottom: 0.4em;background-color: white;}#sk-container-id-3 div.sk-label label {font-family: monospace;font-weight: bold;display: inline-block;line-height: 1.2em;}#sk-container-id-3 div.sk-label-container {text-align: center;}#sk-container-id-3 div.sk-container {/* jupyter's `normalize.less` sets `[hidden] { display: none; }` but bootstrap.min.css set `[hidden] { display: none !important; }` so we also need the `!important` here to be able to override the default hidden behavior on the sphinx rendered scikit-learn.org. See: https://github.com/scikit-learn/scikit-learn/issues/21755 */display: inline-block !important;position: relative;}#sk-container-id-3 div.sk-text-repr-fallback {display: none;}</style><div id=\"sk-container-id-3\" class=\"sk-top-container\"><div class=\"sk-text-repr-fallback\"><pre>Pipeline(steps=[(&#x27;tfidf&#x27;, TfidfVectorizer()), (&#x27;clf&#x27;, LinearSVC())])</pre><b>In a Jupyter environment, please rerun this cell to show the HTML representation or trust the notebook. <br />On GitHub, the HTML representation is unable to render, please try loading this page with nbviewer.org.</b></div><div class=\"sk-container\" hidden><div class=\"sk-item sk-dashed-wrapped\"><div class=\"sk-label-container\"><div class=\"sk-label sk-toggleable\"><input class=\"sk-toggleable__control sk-hidden--visually\" id=\"sk-estimator-id-7\" type=\"checkbox\" ><label for=\"sk-estimator-id-7\" class=\"sk-toggleable__label sk-toggleable__label-arrow\">Pipeline</label><div class=\"sk-toggleable__content\"><pre>Pipeline(steps=[(&#x27;tfidf&#x27;, TfidfVectorizer()), (&#x27;clf&#x27;, LinearSVC())])</pre></div></div></div><div class=\"sk-serial\"><div class=\"sk-item\"><div class=\"sk-estimator sk-toggleable\"><input class=\"sk-toggleable__control sk-hidden--visually\" id=\"sk-estimator-id-8\" type=\"checkbox\" ><label for=\"sk-estimator-id-8\" class=\"sk-toggleable__label sk-toggleable__label-arrow\">TfidfVectorizer</label><div class=\"sk-toggleable__content\"><pre>TfidfVectorizer()</pre></div></div></div><div class=\"sk-item\"><div class=\"sk-estimator sk-toggleable\"><input class=\"sk-toggleable__control sk-hidden--visually\" id=\"sk-estimator-id-9\" type=\"checkbox\" ><label for=\"sk-estimator-id-9\" class=\"sk-toggleable__label sk-toggleable__label-arrow\">LinearSVC</label><div class=\"sk-toggleable__content\"><pre>LinearSVC()</pre></div></div></div></div></div></div></div>"
      ],
      "text/plain": [
       "Pipeline(steps=[('tfidf', TfidfVectorizer()), ('clf', LinearSVC())])"
      ]
     },
     "execution_count": 29,
     "metadata": {},
     "output_type": "execute_result"
    }
   ],
   "source": [
    "from sklearn.pipeline import Pipeline\n",
    "from sklearn.feature_extraction.text import TfidfVectorizer\n",
    "from sklearn.svm import LinearSVC\n",
    "\n",
    "lang_clf = Pipeline([('tfidf', TfidfVectorizer()), ('clf', LinearSVC())])\n",
    "\n",
    "lang_clf.fit(X_train, y_train)"
   ]
  },
  {
   "cell_type": "code",
   "execution_count": 31,
   "id": "7d00c00a",
   "metadata": {},
   "outputs": [],
   "source": [
    "Predictions = lang_clf.predict(X_test)"
   ]
  },
  {
   "cell_type": "markdown",
   "id": "861399ca",
   "metadata": {},
   "source": [
    "# Task #6: Run predictions and analyze the results"
   ]
  },
  {
   "cell_type": "code",
   "execution_count": 32,
   "id": "c3360b98",
   "metadata": {},
   "outputs": [],
   "source": [
    "from sklearn.metrics import confusion_matrix, classification_report, accuracy_score"
   ]
  },
  {
   "cell_type": "code",
   "execution_count": 33,
   "id": "015eaffb",
   "metadata": {},
   "outputs": [
    {
     "name": "stdout",
     "output_type": "stream",
     "text": [
      "[[178   0   0   0   0   0   0   0   0   0   0   0   4   0   0   0   0]\n",
      " [  0 129   0   1   1   2   0   0   1   0   0   1   2   0   2   0   0]\n",
      " [  0   0 181   0   1   1   0   0   0   0   0   0   3   1   0   0   0]\n",
      " [  0   0   0 477   0   1   0   0   4   0   0   0   3   1   0   0   0]\n",
      " [  0   0   1   2 331   0   0   0   2   0   0   0   3   1   0   0   0]\n",
      " [  0   2   0   0   0 141   0   0   0   0   0   0   3   0   0   0   1]\n",
      " [  0   0   0   1   0   0 107   0   0   0   0   0   4   0   0   0   0]\n",
      " [  0   0   0   0   0   0   0  20   0   0   0   0   0   0   0   0   0]\n",
      " [  0   0   0   3   0   0   0   0 229   0   0   0   0   5   0   0   0]\n",
      " [  0   0   0   0   0   0   0   0   0 107   0   0   2   0   0   0   0]\n",
      " [  0   0   0   1   0   0   0   0   0   0 195   0   4   0   0   0   0]\n",
      " [  0   0   0   1   0   0   0   0   1   0   0 230   2   7   0   0   0]\n",
      " [  0   0   0   0   0   0   0   0   0   0   0   0 217   0   0   0   0]\n",
      " [  0   0   0   2   0   0   0   0   0   0   1   2   3 260   0   0   1]\n",
      " [  0   4   0   3   0   0   0   0   0   0   0   0   3   2 203   0   0]\n",
      " [  0   0   0   0   0   0   0   0   0   0   0   0   3   0   0 152   0]\n",
      " [  0   0   0   0   3   1   0   0   1   0   0   0   6   1   1   0 143]]\n"
     ]
    }
   ],
   "source": [
    "print(confusion_matrix(y_test, Predictions))"
   ]
  },
  {
   "cell_type": "code",
   "execution_count": 34,
   "id": "31eca48e",
   "metadata": {},
   "outputs": [
    {
     "name": "stdout",
     "output_type": "stream",
     "text": [
      "              precision    recall  f1-score   support\n",
      "\n",
      "      Arabic       1.00      0.98      0.99       182\n",
      "      Danish       0.96      0.93      0.94       139\n",
      "       Dutch       0.99      0.97      0.98       187\n",
      "     English       0.97      0.98      0.98       486\n",
      "      French       0.99      0.97      0.98       340\n",
      "      German       0.97      0.96      0.96       147\n",
      "       Greek       1.00      0.96      0.98       112\n",
      "       Hindi       1.00      1.00      1.00        20\n",
      "     Italian       0.96      0.97      0.96       237\n",
      "     Kannada       1.00      0.98      0.99       109\n",
      "   Malayalam       0.99      0.97      0.98       200\n",
      "  Portugeese       0.99      0.95      0.97       241\n",
      "     Russian       0.83      1.00      0.91       217\n",
      "     Spanish       0.94      0.97      0.95       269\n",
      "    Sweedish       0.99      0.94      0.96       215\n",
      "       Tamil       1.00      0.98      0.99       155\n",
      "     Turkish       0.99      0.92      0.95       156\n",
      "\n",
      "    accuracy                           0.97      3412\n",
      "   macro avg       0.97      0.97      0.97      3412\n",
      "weighted avg       0.97      0.97      0.97      3412\n",
      "\n"
     ]
    }
   ],
   "source": [
    "print(classification_report(y_test, Predictions))"
   ]
  },
  {
   "cell_type": "code",
   "execution_count": 35,
   "id": "445190f6",
   "metadata": {},
   "outputs": [
    {
     "name": "stdout",
     "output_type": "stream",
     "text": [
      "0.9671746776084408\n"
     ]
    }
   ],
   "source": [
    "print(accuracy_score(y_test, Predictions))"
   ]
  },
  {
   "cell_type": "markdown",
   "id": "8119cd0b",
   "metadata": {},
   "source": [
    "# Task #7: Now, Test with random input language phrase - \"Hi, How are you?\""
   ]
  },
  {
   "cell_type": "code",
   "execution_count": 39,
   "id": "a3e7b43a",
   "metadata": {},
   "outputs": [
    {
     "data": {
      "text/plain": [
       "array(['Arabic'], dtype=object)"
      ]
     },
     "execution_count": 39,
     "metadata": {},
     "output_type": "execute_result"
    }
   ],
   "source": [
    "# Arabic\n",
    "lang_clf.predict([\"مرحبا كيف حالك؟\"])"
   ]
  },
  {
   "cell_type": "code",
   "execution_count": 40,
   "id": "b0b327ae",
   "metadata": {},
   "outputs": [
    {
     "data": {
      "text/plain": [
       "array(['Sweedish'], dtype=object)"
      ]
     },
     "execution_count": 40,
     "metadata": {},
     "output_type": "execute_result"
    }
   ],
   "source": [
    "# Danish\n",
    "lang_clf.predict([\"Hej hvordan går det?\"])\n"
   ]
  },
  {
   "cell_type": "code",
   "execution_count": 41,
   "id": "9a215b8a",
   "metadata": {},
   "outputs": [
    {
     "data": {
      "text/plain": [
       "array(['Dutch'], dtype=object)"
      ]
     },
     "execution_count": 41,
     "metadata": {},
     "output_type": "execute_result"
    }
   ],
   "source": [
    "# Dutch\n",
    "lang_clf.predict([\"Hallo hoe gaat het?\"])"
   ]
  },
  {
   "cell_type": "code",
   "execution_count": 42,
   "id": "6cdaa8f7",
   "metadata": {},
   "outputs": [
    {
     "data": {
      "text/plain": [
       "array(['English'], dtype=object)"
      ]
     },
     "execution_count": 42,
     "metadata": {},
     "output_type": "execute_result"
    }
   ],
   "source": [
    "# English\n",
    "lang_clf.predict([\"Hi, how are you?\"])"
   ]
  },
  {
   "cell_type": "code",
   "execution_count": 43,
   "id": "136ecba8",
   "metadata": {},
   "outputs": [
    {
     "data": {
      "text/plain": [
       "array(['French'], dtype=object)"
      ]
     },
     "execution_count": 43,
     "metadata": {},
     "output_type": "execute_result"
    }
   ],
   "source": [
    "# French\n",
    "lang_clf.predict([\"Salut comment ça va?\"])"
   ]
  },
  {
   "cell_type": "code",
   "execution_count": 44,
   "id": "ffbd71ae",
   "metadata": {},
   "outputs": [
    {
     "data": {
      "text/plain": [
       "array(['German'], dtype=object)"
      ]
     },
     "execution_count": 44,
     "metadata": {},
     "output_type": "execute_result"
    }
   ],
   "source": [
    "# German\n",
    "lang_clf.predict([\"Hi, wie geht es dir?\"])"
   ]
  },
  {
   "cell_type": "code",
   "execution_count": 45,
   "id": "3c44e477",
   "metadata": {},
   "outputs": [
    {
     "data": {
      "text/plain": [
       "array(['Greek'], dtype=object)"
      ]
     },
     "execution_count": 45,
     "metadata": {},
     "output_type": "execute_result"
    }
   ],
   "source": [
    "# Greek\n",
    "lang_clf.predict([\"Γεια πως εισαι?\"])"
   ]
  },
  {
   "cell_type": "code",
   "execution_count": 46,
   "id": "3772b80c",
   "metadata": {},
   "outputs": [
    {
     "data": {
      "text/plain": [
       "array(['Hindi'], dtype=object)"
      ]
     },
     "execution_count": 46,
     "metadata": {},
     "output_type": "execute_result"
    }
   ],
   "source": [
    "# Hindi\n",
    "lang_clf.predict([\"नमस्ते, आप कैसे हैं?\"])"
   ]
  },
  {
   "cell_type": "code",
   "execution_count": 47,
   "id": "e8a4a201",
   "metadata": {},
   "outputs": [
    {
     "data": {
      "text/plain": [
       "array(['Italian'], dtype=object)"
      ]
     },
     "execution_count": 47,
     "metadata": {},
     "output_type": "execute_result"
    }
   ],
   "source": [
    "# Italian\n",
    "lang_clf.predict([\"Ciao, come stai?\"])"
   ]
  },
  {
   "cell_type": "code",
   "execution_count": 48,
   "id": "e6d08ee1",
   "metadata": {},
   "outputs": [
    {
     "data": {
      "text/plain": [
       "array(['Kannada'], dtype=object)"
      ]
     },
     "execution_count": 48,
     "metadata": {},
     "output_type": "execute_result"
    }
   ],
   "source": [
    "# Kannada\n",
    "lang_clf.predict([\"ನಮಸ್ಕಾರ ಹೇಗಿದ್ದೀರಾ?\"])"
   ]
  },
  {
   "cell_type": "code",
   "execution_count": 49,
   "id": "afe5e974",
   "metadata": {},
   "outputs": [
    {
     "data": {
      "text/plain": [
       "array(['Russian'], dtype=object)"
      ]
     },
     "execution_count": 49,
     "metadata": {},
     "output_type": "execute_result"
    }
   ],
   "source": [
    "# Malayalam\n",
    "lang_clf.predict([\"ഹായ്, സുഖമാണോ?\"])"
   ]
  },
  {
   "cell_type": "code",
   "execution_count": 50,
   "id": "1cec34b1",
   "metadata": {},
   "outputs": [
    {
     "data": {
      "text/plain": [
       "array(['Portugeese'], dtype=object)"
      ]
     },
     "execution_count": 50,
     "metadata": {},
     "output_type": "execute_result"
    }
   ],
   "source": [
    "# Portugeese\n",
    "lang_clf.predict([\"Oi como você está?\"])"
   ]
  },
  {
   "cell_type": "code",
   "execution_count": 51,
   "id": "14c9ccca",
   "metadata": {},
   "outputs": [
    {
     "data": {
      "text/plain": [
       "array(['Russian'], dtype=object)"
      ]
     },
     "execution_count": 51,
     "metadata": {},
     "output_type": "execute_result"
    }
   ],
   "source": [
    "# Russian\n",
    "lang_clf.predict([\"Привет, как ты?\"])"
   ]
  },
  {
   "cell_type": "code",
   "execution_count": 52,
   "id": "9126b4fd",
   "metadata": {},
   "outputs": [
    {
     "data": {
      "text/plain": [
       "array(['Spanish'], dtype=object)"
      ]
     },
     "execution_count": 52,
     "metadata": {},
     "output_type": "execute_result"
    }
   ],
   "source": [
    "# Spanish\n",
    "lang_clf.predict([\"¿Hola, cómo estás?\"])"
   ]
  },
  {
   "cell_type": "code",
   "execution_count": 53,
   "id": "6ab2a7c0",
   "metadata": {},
   "outputs": [
    {
     "data": {
      "text/plain": [
       "array(['Sweedish'], dtype=object)"
      ]
     },
     "execution_count": 53,
     "metadata": {},
     "output_type": "execute_result"
    }
   ],
   "source": [
    "# Sweedish\n",
    "lang_clf.predict([\"Hej hur mår du?\"])"
   ]
  },
  {
   "cell_type": "code",
   "execution_count": 54,
   "id": "8b1e0d69",
   "metadata": {},
   "outputs": [
    {
     "data": {
      "text/plain": [
       "array(['Tamil'], dtype=object)"
      ]
     },
     "execution_count": 54,
     "metadata": {},
     "output_type": "execute_result"
    }
   ],
   "source": [
    "# Tamil\n",
    "lang_clf.predict([\"ஹாய், நீங்கள் எப்படி இருக்கிறீர்கள்?\"])"
   ]
  },
  {
   "cell_type": "code",
   "execution_count": 55,
   "id": "706b1943",
   "metadata": {},
   "outputs": [
    {
     "data": {
      "text/plain": [
       "array(['Russian'], dtype=object)"
      ]
     },
     "execution_count": 55,
     "metadata": {},
     "output_type": "execute_result"
    }
   ],
   "source": [
    "# Turkish\n",
    "lang_clf.predict([\"Merhaba nasılsın?\"])"
   ]
  },
  {
   "cell_type": "code",
   "execution_count": null,
   "id": "99573c1b",
   "metadata": {},
   "outputs": [],
   "source": []
  },
  {
   "cell_type": "code",
   "execution_count": null,
   "id": "0e9ca806",
   "metadata": {},
   "outputs": [],
   "source": []
  }
 ],
 "metadata": {
  "kernelspec": {
   "display_name": "Python 3 (ipykernel)",
   "language": "python",
   "name": "python3"
  },
  "language_info": {
   "codemirror_mode": {
    "name": "ipython",
    "version": 3
   },
   "file_extension": ".py",
   "mimetype": "text/x-python",
   "name": "python",
   "nbconvert_exporter": "python",
   "pygments_lexer": "ipython3",
   "version": "3.10.9"
  }
 },
 "nbformat": 4,
 "nbformat_minor": 5
}
